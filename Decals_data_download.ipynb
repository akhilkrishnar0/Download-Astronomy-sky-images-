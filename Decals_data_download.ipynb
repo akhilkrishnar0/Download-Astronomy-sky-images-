{
 "cells": [
  {
   "cell_type": "code",
   "execution_count": null,
   "id": "3daeab9f-70db-42f5-8683-25515dc5bffc",
   "metadata": {},
   "outputs": [],
   "source": [
    "#Import necessary packages"
   ]
  },
  {
   "cell_type": "code",
   "execution_count": null,
   "id": "4963472a-ed34-458a-ba34-6a7b1cdb1d3b",
   "metadata": {},
   "outputs": [],
   "source": [
    "import requests\n",
    "import shutil"
   ]
  },
  {
   "cell_type": "code",
   "execution_count": null,
   "id": "06aba2b3-7aca-40da-936d-f1ed4dd37c14",
   "metadata": {},
   "outputs": [],
   "source": [
    "def download_images(galid,ra,dec,size):\n",
    "    url = 'https://www.legacysurvey.org/viewer/cutout.jpg?ra={}&dec={}&%22/pix=0.25&layer=ls-dr9&size={}'.format(ra, dec,size)\n",
    "    print(url)\n",
    "    res = requests.get(url, stream = True)\n",
    "    file_name = direct_i+'{}.jpg'.format(galid)\n",
    "    \n",
    "    if res.status_code == 200:\n",
    "        with open(file_name,'wb') as f:\n",
    "            shutil.copyfileobj(res.raw, f)\n",
    "        print('Image sucessfully Downloaded: ',file_name)\n",
    "    else:\n",
    "        print('Image Couldn\\'t be retrieved')\n",
    "        \n",
    "        \n",
    "def download_fits(galid,ra,dec,size):\n",
    "    url = 'https://www.legacysurvey.org/viewer/cutout.fits?ra={}&dec={}&%22/pix=0.25&layer=ls-dr9&size={}'.format(ra, dec,size)\n",
    "    print(url)\n",
    "    res = requests.get(url, stream = True)\n",
    "    file_name =  direct_f+'{}.fits'.format(galid)\n",
    "    \n",
    "    if res.status_code == 200:\n",
    "        with open(file_name,'wb') as f:\n",
    "            shutil.copyfileobj(res.raw, f)\n",
    "        print('Image sucessfully Downloaded: ',file_name)\n",
    "    else:\n",
    "        print('Image Couldn\\'t be retrieved')"
   ]
  },
  {
   "cell_type": "code",
   "execution_count": null,
   "id": "4615eeb7-a323-4dd6-aab3-21aeed56b338",
   "metadata": {},
   "outputs": [],
   "source": [
    "#Define the directory\n",
    "direct_i = 'test/images/'\n",
    "direct_f = 'test/fits/'"
   ]
  },
  {
   "cell_type": "code",
   "execution_count": null,
   "id": "7d1f3325-496a-468a-9297-2dfc9ce4befe",
   "metadata": {},
   "outputs": [],
   "source": [
    "#To download the images of NGC 628\n",
    "download_images('NGC628',24.1750, 15.7838,100)"
   ]
  },
  {
   "cell_type": "code",
   "execution_count": 2,
   "id": "d889bc69-9934-4d17-9c68-48b99e543dbc",
   "metadata": {},
   "outputs": [],
   "source": [
    "#To download the images for a big sample of data\n",
    "i=0\n",
    "df = pd.read_csv('sample.csv')\n",
    "while i < len(df):\n",
    "    download_fits(df['id'][i],df['RA'][i],df['DEC'][i],1000)\n",
    "    time.sleep(1)\n",
    "    i+=1"
   ]
  },
  {
   "cell_type": "code",
   "execution_count": null,
   "id": "a4ee249d-e388-430d-8244-294693fa5f54",
   "metadata": {},
   "outputs": [],
   "source": []
  },
  {
   "cell_type": "code",
   "execution_count": null,
   "id": "1680cc46-442a-4832-85ef-98ab44a9640c",
   "metadata": {},
   "outputs": [],
   "source": []
  },
  {
   "cell_type": "code",
   "execution_count": null,
   "id": "05191b8e-5389-4842-8c36-8fe71a78202a",
   "metadata": {},
   "outputs": [],
   "source": []
  }
 ],
 "metadata": {
  "kernelspec": {
   "display_name": "Python 3 (ipykernel)",
   "language": "python",
   "name": "python3"
  },
  "language_info": {
   "codemirror_mode": {
    "name": "ipython",
    "version": 3
   },
   "file_extension": ".py",
   "mimetype": "text/x-python",
   "name": "python",
   "nbconvert_exporter": "python",
   "pygments_lexer": "ipython3",
   "version": "3.11.4"
  }
 },
 "nbformat": 4,
 "nbformat_minor": 5
}
